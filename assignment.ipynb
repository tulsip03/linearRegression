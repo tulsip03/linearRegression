{
  "cells": [
    {
      "cell_type": "markdown",
      "id": "e0c7b14a-e5aa-4abc-b48b-b8a9d20dacac",
      "metadata": {
        "id": "e0c7b14a-e5aa-4abc-b48b-b8a9d20dacac"
      },
      "source": [
        "# Assignment: Linear Models\n",
        "## Foundations of Machine Learning\n",
        "## Do Q1 and one other question"
      ]
    },
    {
      "cell_type": "markdown",
      "id": "bf4826b0",
      "metadata": {
        "id": "bf4826b0"
      },
      "source": [
        "**Q0.** Please answer the following questions in your own words.\n",
        "\n",
        "1. What makes a model \"linear\"? \"Linear\" in what?\n",
        "2. How do you interpret the coefficient for a dummy/one-hot-encoded variable? (This is a trick question, and the trick involves how you handle the intercept of the model.)\n",
        "3. Can linear regression be used for classification? Explain why, or why not.\n",
        "4. What are signs that your linear model is over-fitting?\n",
        "5. Clearly explain multi-colinearity using the two-stage least squares technique.\n",
        "6. What are two ways to incorporate nonlinear relationships between your target/response/dependent/outcome variable $y$ and your features/control/response/independent variables $x$?\n",
        "7. What is the interpretation of the intercept? A slope coefficient for a variable? The coefficient for a dummy/one-hot-encoded variable?"
      ]
    },
    {
      "cell_type": "markdown",
      "id": "25bf83c6-ff44-42d6-9b33-8be1b945860d",
      "metadata": {
        "id": "25bf83c6-ff44-42d6-9b33-8be1b945860d"
      },
      "source": [
        "**Q1.** Load `./data/Q1_clean.csv`. The data include\n",
        "\n",
        "- `Price` per night\n",
        "- `Review Scores Rating`: The average rating for the property\n",
        "- `Neighbourhood `: The bourough of NYC. Note the space, or rename the variable.\n",
        "- `Property Type`: The kind of dwelling\n",
        "- `Room Type`: The kind of space being rented"
      ]
    },
    {
      "cell_type": "markdown",
      "source": [
        "1. Compute the average prices and scores by `Neighbourhood `; which bourough is the most expensive on average? Create a kernel density plot of price and log price, grouping by `Neighbourhood `."
      ],
      "metadata": {
        "id": "2VnOEveiQPWl"
      },
      "id": "2VnOEveiQPWl"
    },
    {
      "cell_type": "code",
      "source": [
        "import numpy as np\n",
        "import matplotlib.pyplot as plt\n",
        "import pandas as pd\n",
        "import seaborn as sns\n",
        "\n",
        "df = pd.read_csv('./data/Q1_clean.csv')\n",
        "df.head()\n",
        "\n",
        "df.loc[:,['Price','Neighbourhood '] ].groupby('Neighbourhood ').describe()\n",
        "\n",
        "sns.kdeplot(x=df['Price'], hue=df['Neighbourhood '])\n",
        "plt.show()\n",
        "\n",
        "sns.kdeplot(x=np.log(df['Price']), hue=df['Neighbourhood '])\n",
        "plt.show()"
      ],
      "metadata": {
        "id": "mlZZLCOLQLIJ"
      },
      "id": "mlZZLCOLQLIJ",
      "execution_count": null,
      "outputs": []
    },
    {
      "cell_type": "markdown",
      "source": [
        "2. Regress price on Neighbourhood by creating the appropriate dummy/one-hot-encoded variables, without an intercept in the linear model and using all the data. Compare the coefficients in the regression to the table from part 1. What pattern do you see? What are the coefficients in a regression of a continuous variable on one categorical variable?"
      ],
      "metadata": {
        "id": "JAcAR_krQXGu"
      },
      "id": "JAcAR_krQXGu"
    },
    {
      "cell_type": "code",
      "source": [
        "y = df['Price']\n",
        "X = pd.get_dummies(df['Neighbourhood '], dtype='int')\n",
        "\n",
        "from sklearn import linear_model\n",
        "reg = linear_model.LinearRegression(fit_intercept=False).fit(X,y) # Run regression\n",
        "\n",
        "results = pd.DataFrame({'variable':reg.feature_names_in_, 'coefficient': reg.coef_}) # Regression coefficients\n",
        "results"
      ],
      "metadata": {
        "id": "Gm3opMHdQiXR"
      },
      "id": "Gm3opMHdQiXR",
      "execution_count": null,
      "outputs": []
    },
    {
      "cell_type": "markdown",
      "source": [
        "The groupwise means from part 1 are the same as the coefficients of a regression on the neighbourhood dummy. The regression is just computing the group averages, since we have no other control variables. Conversely, the regression coefficients for dummy variables are a group mean, controlling for everything else in the regression."
      ],
      "metadata": {
        "id": "vClcvHSkQn7R"
      },
      "id": "vClcvHSkQn7R"
    },
    {
      "cell_type": "markdown",
      "source": [
        "3. Repeat part 2, but leave an intercept in the linear model. How do you have to handle the creation of the dummies differently? What is the intercept? Interpret the coefficients. How can I get the coefficients in part 2 from these new coefficients?"
      ],
      "metadata": {
        "id": "NesKJWGbQo6_"
      },
      "id": "NesKJWGbQo6_"
    },
    {
      "cell_type": "code",
      "source": [
        "y = df['Price']\n",
        "X = pd.get_dummies(df['Neighbourhood '], dtype='int', drop_first = True)\n",
        "\n",
        "from sklearn import linear_model\n",
        "reg = linear_model.LinearRegression().fit(X,y) # Run regression\n",
        "\n",
        "results = pd.DataFrame({'variable':reg.feature_names_in_, 'coefficient': reg.coef_}) # Regression coefficients\n",
        "results\n",
        "\n",
        "print(reg.intercept_)\n",
        "\n",
        "results = pd.DataFrame({'variable':reg.feature_names_in_,\n",
        "                        'coefficient': reg.coef_+reg.intercept_}) # Regression coefficients\n",
        "results"
      ],
      "metadata": {
        "id": "ETn2SmcNQvHx"
      },
      "id": "ETn2SmcNQvHx",
      "execution_count": null,
      "outputs": []
    },
    {
      "cell_type": "markdown",
      "source": [
        "4. Split the sample 80/20 into a training and a test set. Run a regression of Price on Review Scores Rating and Neighbourhood. What is the  𝑅2  and RMSE on the test set? What is the coefficient on Review Scores Rating? What is the most expensive kind of property you can rent?"
      ],
      "metadata": {
        "id": "ebTDUTtMQ2-j"
      },
      "id": "ebTDUTtMQ2-j"
    },
    {
      "cell_type": "code",
      "source": [
        "from sklearn import linear_model\n",
        "from sklearn.model_selection import train_test_split\n",
        "\n",
        "y = df['Price']\n",
        "X = df.loc[:,['Review Scores Rating', 'Neighbourhood '] ]\n",
        "X_train, X_test, y_train, y_test = train_test_split(X,y, # Feature and target variables\n",
        "                                                    test_size=.2, # Split the sample 80 train/ 20 test\n",
        "                                                    random_state=100) # For replication purposes\n",
        "\n",
        "Z_train = pd.concat([X_train['Review Scores Rating'],\n",
        "                     pd.get_dummies(X_train['Neighbourhood '], dtype='int')], axis = 1)\n",
        "Z_test = pd.concat([X_test['Review Scores Rating'],\n",
        "                    pd.get_dummies(X_test['Neighbourhood '], dtype='int')], axis = 1)\n",
        "\n",
        "reg = linear_model.LinearRegression(fit_intercept=False).fit(Z_train,y_train) # Run regression\n",
        "\n",
        "y_hat = reg.predict(Z_test)\n",
        "print('Rsq: ', reg.score(Z_test,y_test)) # R2\n",
        "rmse = np.sqrt( np.mean( (y_test - y_hat)**2 ))\n",
        "print('RMSE: ', rmse) # R2\n",
        "\n",
        "results = pd.DataFrame({'variable':reg.feature_names_in_, 'coefficient': reg.coef_}) # Regression coefficients\n",
        "results\n",
        "\n",
        "100*1.032257 + 89.4"
      ],
      "metadata": {
        "id": "FB2G-lG9Q6-X"
      },
      "id": "FB2G-lG9Q6-X",
      "execution_count": null,
      "outputs": []
    },
    {
      "cell_type": "markdown",
      "source": [
        "The most expensive property you can rent is a 100-rated place in Manhattan, for about 192.64 per night"
      ],
      "metadata": {
        "id": "wCfJUrssRC03"
      },
      "id": "wCfJUrssRC03"
    },
    {
      "cell_type": "markdown",
      "source": [
        "5. Split the sample 80/20 into a training and a test set. Run a regression of Price on Review Scores Rating and Neighbourhood  and Room Type. What is the\n",
        " and RMSE on the test set? What is the coefficient on Review Scores Rating? What is the most expensive kind of property you can rent?"
      ],
      "metadata": {
        "id": "xVfN3y5MRIj_"
      },
      "id": "xVfN3y5MRIj_"
    },
    {
      "cell_type": "code",
      "source": [
        "y = df['Price']\n",
        "X = df.loc[:,['Review Scores Rating', 'Neighbourhood ', 'Room Type'] ]\n",
        "X_train, X_test, y_train, y_test = train_test_split(X,y, # Feature and target variables\n",
        "                                                    test_size=.2, # Split the sample 80 train/ 20 test\n",
        "                                                    random_state=100) # For replication purposes\n",
        "\n",
        "Z_train = pd.concat([X_train['Review Scores Rating'],\n",
        "                    pd.get_dummies(X_train['Neighbourhood '], dtype='int'),\n",
        "                    pd.get_dummies(X_train['Room Type'], dtype='int')],\n",
        "                    axis = 1)\n",
        "Z_test = pd.concat([X_test['Review Scores Rating'],\n",
        "                    pd.get_dummies(X_test['Neighbourhood '], dtype='int'),\n",
        "                    pd.get_dummies(X_test['Room Type'], dtype='int')],\n",
        "                    axis = 1)\n",
        "reg = linear_model.LinearRegression(fit_intercept=False).fit(Z_train,y_train) # Run regression\n",
        "y_hat = reg.predict(Z_test)\n",
        "print('Rsq: ', reg.score(Z_test,y_test)) # R2\n",
        "rmse = np.sqrt( np.mean( (y_test - y_hat)**2 ))\n",
        "print('RMSE: ', rmse) # R2\n",
        "results = pd.DataFrame({'variable':reg.feature_names_in_, 'coefficient': reg.coef_}) # Regression coefficients\n",
        "results\n",
        "\n",
        "110.617+53.69+100*.0626"
      ],
      "metadata": {
        "id": "nKfXwMPYRKCr"
      },
      "id": "nKfXwMPYRKCr",
      "execution_count": null,
      "outputs": []
    },
    {
      "cell_type": "markdown",
      "source": [
        "a 100-rated home or apt in Manhatter would cost 170.57 a night"
      ],
      "metadata": {
        "id": "f-tP6Ri6RU76"
      },
      "id": "f-tP6Ri6RU76"
    },
    {
      "cell_type": "markdown",
      "source": [
        "6. What does the coefficient on Review Scores Rating mean if it changes from part 4 to 5? Hint: Think about how multilple linear regression works.\n",
        "\n",
        "\n",
        "In part 4, it was 1.03 and in part 5 it was 0.63. When we do multiple linear regression, you can imagine first regression your and of interest on all the other variables, then saving the residuals, then regressing those residuals on each other. So in part 4 we didn't include the information about the room type, and in part 5 we did. What we're seeing is that some of the variation in prices by rating and neighbourhood is explained by the room types available in those neighbourhoods. Once we control for room type, the other variables become less powerful predictors because some of their predictive power is correlated with room type. That's why the coefficient on rating shrinks."
      ],
      "metadata": {
        "id": "CiQ0rNiqRoOv"
      },
      "id": "CiQ0rNiqRoOv"
    },
    {
      "cell_type": "markdown",
      "id": "95f22300-0180-4ed2-be8f-ed56cf4cd36b",
      "metadata": {
        "id": "95f22300-0180-4ed2-be8f-ed56cf4cd36b"
      },
      "source": [
        "**Q2.** This question is a case study for linear models. The data are about car prices. In particular, they include:\n",
        "\n",
        "  - `Price`, `Color`, `Seating_Capacity`\n",
        "  - `Body_Type`: crossover, hatchback, muv, sedan, suv\n",
        "  - `Make`, `Make_Year`: The brand of car and year produced\n",
        "  - `Mileage_Run`: The number of miles on the odometer\n",
        "  - `Fuel_Type`: Diesel or gasoline/petrol\n",
        "  - `Transmission`, `Transmission_Type`:  speeds and automatic/manual\n",
        "\n",
        "  1. Load `cars_hw.csv`. These data were really dirty, and I've already cleaned them a significant amount in terms of missing values and other issues, but some issues remain (e.g. outliers, badly scaled variables that require a log or arcsinh transformation). Clean the data however you think is most appropriate.\n",
        "  2. Summarize the `Price` variable and create a kernel density plot. Use `.groupby()` and `.describe()` to summarize prices by brand (`Make`). Make a grouped kernel density plot by `Make`. Which car brands are the most expensive? What do prices look like in general?\n",
        "  3. Split the data into an 80% training set and a 20% testing set.\n",
        "  4. Make a model where you regress price on the numeric variables alone; what is the $R^2$ and `RMSE` on the training set and test set? Make a second model where, for the categorical variables, you regress price on a model comprised of one-hot encoded regressors/features alone (you can use `pd.get_dummies()`; be careful of the dummy variable trap); what is the $R^2$ and `RMSE` on the test set? Which model performs better on the test set? Make a third model that combines all the regressors from the previous two; what is the $R^2$ and `RMSE` on the test set? Does the joint model perform better or worse, and by home much?\n",
        "  5. Use the `PolynomialFeatures` function from `sklearn` to expand the set of numerical variables you're using in the regression. As you increase the degree of the expansion, how do the $R^2$ and `RMSE` change? At what point does $R^2$ go negative on the test set? For your best model with expanded features, what is the $R^2$ and `RMSE`? How does it compare to your best model from part 4?\n",
        "  6. For your best model so far, determine the predicted values for the test data and plot them against the true values. Do the predicted values and true values roughly line up along the diagonal, or not? Compute the residuals/errors for the test data and create a kernel density plot. Do the residuals look roughly bell-shaped around zero? Evaluate the strengths and weaknesses of your model."
      ]
    }
  ],
  "metadata": {
    "kernelspec": {
      "display_name": "Python 3 (ipykernel)",
      "language": "python",
      "name": "python3"
    },
    "language_info": {
      "codemirror_mode": {
        "name": "ipython",
        "version": 3
      },
      "file_extension": ".py",
      "mimetype": "text/x-python",
      "name": "python",
      "nbconvert_exporter": "python",
      "pygments_lexer": "ipython3",
      "version": "3.12.2"
    },
    "colab": {
      "provenance": []
    }
  },
  "nbformat": 4,
  "nbformat_minor": 5
}